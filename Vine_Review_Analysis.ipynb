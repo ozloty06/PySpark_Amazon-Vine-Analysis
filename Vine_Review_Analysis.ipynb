{
  "nbformat": 4,
  "nbformat_minor": 0,
  "metadata": {
    "colab": {
      "name": "Vine_Review_Analysis.ipynb",
      "provenance": [],
      "authorship_tag": "ABX9TyPbFN0ECni85Ay1gzkJXj0w",
      "include_colab_link": true
    },
    "kernelspec": {
      "display_name": "Python 3",
      "name": "python3"
    },
    "language_info": {
      "name": "python"
    }
  },
  "cells": [
    {
      "cell_type": "markdown",
      "metadata": {
        "id": "view-in-github",
        "colab_type": "text"
      },
      "source": [
        "<a href=\"https://colab.research.google.com/github/ozloty06/PySpark_Amazon-Vine-Analysis/blob/main/Vine_Review_Analysis.ipynb\" target=\"_parent\"><img src=\"https://colab.research.google.com/assets/colab-badge.svg\" alt=\"Open In Colab\"/></a>"
      ]
    },
    {
      "cell_type": "code",
      "metadata": {
        "colab": {
          "base_uri": "https://localhost:8080/"
        },
        "id": "i2jND_DdiUkk",
        "outputId": "6110b707-7bea-46b4-b8a8-16270a7ffc62"
      },
      "source": [
        "import os\n",
        "# Find the latest version of spark 3.0 from http://www.apache.org/dist/spark/ and enter as the spark version\n",
        "# For example:\n",
        "# spark_version = 'spark-3.0.3'\n",
        "spark_version = 'spark-3.0.3'\n",
        "os.environ['SPARK_VERSION']=spark_version\n",
        "\n",
        "# Install Spark and Java\n",
        "!apt-get update\n",
        "!apt-get install openjdk-11-jdk-headless -qq > /dev/null\n",
        "!wget -q http://www.apache.org/dist/spark/$SPARK_VERSION/$SPARK_VERSION-bin-hadoop2.7.tgz\n",
        "!tar xf $SPARK_VERSION-bin-hadoop2.7.tgz\n",
        "!pip install -q findspark\n",
        "\n",
        "# Set Environment Variables\n",
        "import os\n",
        "os.environ[\"JAVA_HOME\"] = \"/usr/lib/jvm/java-11-openjdk-amd64\"\n",
        "os.environ[\"SPARK_HOME\"] = f\"/content/{spark_version}-bin-hadoop2.7\"\n",
        "\n",
        "# Start a SparkSession\n",
        "import findspark\n",
        "findspark.init()"
      ],
      "execution_count": 1,
      "outputs": [
        {
          "output_type": "stream",
          "text": [
            "\r0% [Working]\r            \rIgn:1 https://developer.download.nvidia.com/compute/cuda/repos/ubuntu1804/x86_64  InRelease\n",
            "\r0% [Connecting to archive.ubuntu.com (91.189.88.152)] [Connecting to security.u\r                                                                               \rIgn:2 https://developer.download.nvidia.com/compute/machine-learning/repos/ubuntu1804/x86_64  InRelease\n",
            "Get:3 https://developer.download.nvidia.com/compute/cuda/repos/ubuntu1804/x86_64  Release [697 B]\n",
            "Hit:4 https://developer.download.nvidia.com/compute/machine-learning/repos/ubuntu1804/x86_64  Release\n",
            "Get:5 https://cloud.r-project.org/bin/linux/ubuntu bionic-cran40/ InRelease [3,626 B]\n",
            "Get:6 http://security.ubuntu.com/ubuntu bionic-security InRelease [88.7 kB]\n",
            "Get:7 https://developer.download.nvidia.com/compute/cuda/repos/ubuntu1804/x86_64  Release.gpg [836 B]\n",
            "Hit:8 http://archive.ubuntu.com/ubuntu bionic InRelease\n",
            "Get:9 http://archive.ubuntu.com/ubuntu bionic-updates InRelease [88.7 kB]\n",
            "Get:10 http://ppa.launchpad.net/c2d4u.team/c2d4u4.0+/ubuntu bionic InRelease [15.9 kB]\n",
            "Get:12 https://cloud.r-project.org/bin/linux/ubuntu bionic-cran40/ Packages [66.2 kB]\n",
            "Hit:13 http://ppa.launchpad.net/cran/libgit2/ubuntu bionic InRelease\n",
            "Get:14 http://archive.ubuntu.com/ubuntu bionic-backports InRelease [74.6 kB]\n",
            "Ign:15 https://developer.download.nvidia.com/compute/cuda/repos/ubuntu1804/x86_64  Packages\n",
            "Get:15 https://developer.download.nvidia.com/compute/cuda/repos/ubuntu1804/x86_64  Packages [695 kB]\n",
            "Get:16 http://ppa.launchpad.net/deadsnakes/ppa/ubuntu bionic InRelease [15.9 kB]\n",
            "Get:17 http://ppa.launchpad.net/graphics-drivers/ppa/ubuntu bionic InRelease [21.3 kB]\n",
            "Get:18 http://security.ubuntu.com/ubuntu bionic-security/universe amd64 Packages [1,421 kB]\n",
            "Get:19 http://ppa.launchpad.net/c2d4u.team/c2d4u4.0+/ubuntu bionic/main Sources [1,786 kB]\n",
            "Get:20 http://security.ubuntu.com/ubuntu bionic-security/multiverse amd64 Packages [26.7 kB]\n",
            "Get:21 http://security.ubuntu.com/ubuntu bionic-security/restricted amd64 Packages [510 kB]\n",
            "Get:22 http://security.ubuntu.com/ubuntu bionic-security/main amd64 Packages [2,263 kB]\n",
            "Get:23 http://archive.ubuntu.com/ubuntu bionic-updates/universe amd64 Packages [2,196 kB]\n",
            "Get:24 http://archive.ubuntu.com/ubuntu bionic-updates/main amd64 Packages [2,699 kB]\n",
            "Get:25 http://archive.ubuntu.com/ubuntu bionic-updates/multiverse amd64 Packages [39.4 kB]\n",
            "Get:26 http://archive.ubuntu.com/ubuntu bionic-updates/restricted amd64 Packages [544 kB]\n",
            "Get:27 http://ppa.launchpad.net/c2d4u.team/c2d4u4.0+/ubuntu bionic/main amd64 Packages [914 kB]\n",
            "Get:28 http://ppa.launchpad.net/deadsnakes/ppa/ubuntu bionic/main amd64 Packages [40.9 kB]\n",
            "Get:29 http://ppa.launchpad.net/graphics-drivers/ppa/ubuntu bionic/main amd64 Packages [44.1 kB]\n",
            "Fetched 13.6 MB in 5s (2,640 kB/s)\n",
            "Reading package lists... Done\n"
          ],
          "name": "stdout"
        }
      ]
    },
    {
      "cell_type": "code",
      "metadata": {
        "colab": {
          "base_uri": "https://localhost:8080/"
        },
        "id": "w7H1IYF-ikbw",
        "outputId": "91708708-f866-4cfc-ec99-7d745d79caef"
      },
      "source": [
        "# Download the Postgres driver that will allow Spark to interact with Postgres.\n",
        "!wget https://jdbc.postgresql.org/download/postgresql-42.2.16.jar"
      ],
      "execution_count": 2,
      "outputs": [
        {
          "output_type": "stream",
          "text": [
            "--2021-08-14 04:00:52--  https://jdbc.postgresql.org/download/postgresql-42.2.16.jar\n",
            "Resolving jdbc.postgresql.org (jdbc.postgresql.org)... 72.32.157.228, 2001:4800:3e1:1::228\n",
            "Connecting to jdbc.postgresql.org (jdbc.postgresql.org)|72.32.157.228|:443... connected.\n",
            "HTTP request sent, awaiting response... 200 OK\n",
            "Length: 1002883 (979K) [application/java-archive]\n",
            "Saving to: ‘postgresql-42.2.16.jar’\n",
            "\n",
            "postgresql-42.2.16. 100%[===================>] 979.38K  6.18MB/s    in 0.2s    \n",
            "\n",
            "2021-08-14 04:00:52 (6.18 MB/s) - ‘postgresql-42.2.16.jar’ saved [1002883/1002883]\n",
            "\n"
          ],
          "name": "stdout"
        }
      ]
    },
    {
      "cell_type": "code",
      "metadata": {
        "id": "ZpOV4EbQiken"
      },
      "source": [
        "from pyspark.sql import SparkSession\n",
        "spark = SparkSession.builder.appName(\"M16-Amazon-Vine-Challange\").config(\"spark.driver.extraClassPath\",\"/content/postgresql-42.2.16.jar\").getOrCreate()"
      ],
      "execution_count": 3,
      "outputs": []
    },
    {
      "cell_type": "code",
      "metadata": {
        "id": "p3nY98_Dikhh",
        "colab": {
          "base_uri": "https://localhost:8080/"
        },
        "outputId": "3e0462c1-6d4d-48aa-b144-ca24a87ede8b"
      },
      "source": [
        "# Extract the dataset used in Deliverable 1\n",
        "from pyspark import SparkFiles\n",
        "url = \"https://s3.amazonaws.com/amazon-reviews-pds/tsv/amazon_reviews_us_Video_Games_v1_00.tsv.gz\"\n",
        "spark.sparkContext.addFile(url)\n",
        "df = spark.read.option(\"encoding\", \"UTF-8\").csv(SparkFiles.get(\"\"), sep=\"\\t\", header=True, inferSchema=True)\n",
        "df.show()"
      ],
      "execution_count": 4,
      "outputs": [
        {
          "output_type": "stream",
          "text": [
            "+-----------+-----------+--------------+----------+--------------+--------------------+----------------+-----------+-------------+-----------+----+-----------------+--------------------+--------------------+-----------+\n",
            "|marketplace|customer_id|     review_id|product_id|product_parent|       product_title|product_category|star_rating|helpful_votes|total_votes|vine|verified_purchase|     review_headline|         review_body|review_date|\n",
            "+-----------+-----------+--------------+----------+--------------+--------------------+----------------+-----------+-------------+-----------+----+-----------------+--------------------+--------------------+-----------+\n",
            "|         US|   12039526| RTIS3L2M1F5SM|B001CXYMFS|     737716809|Thrustmaster T-Fl...|     Video Games|          5|            0|          0|   N|                Y|an amazing joysti...|Used this for Eli...| 2015-08-31|\n",
            "|         US|    9636577| R1ZV7R40OLHKD|B00M920ND6|     569686175|Tonsee 6 buttons ...|     Video Games|          5|            0|          0|   N|                Y|Definitely a sile...|Loved it,  I didn...| 2015-08-31|\n",
            "|         US|    2331478|R3BH071QLH8QMC|B0029CSOD2|      98937668|Hidden Mysteries:...|     Video Games|          1|            0|          1|   N|                Y|            One Star|poor quality work...| 2015-08-31|\n",
            "|         US|   52495923|R127K9NTSXA2YH|B00GOOSV98|      23143350|GelTabz Performan...|     Video Games|          3|            0|          0|   N|                Y|good, but could b...|nice, but tend to...| 2015-08-31|\n",
            "|         US|   14533949|R32ZWUXDJPW27Q|B00Y074JOM|     821342511|Zero Suit Samus a...|     Video Games|          4|            0|          0|   N|                Y|   Great but flawed.|Great amiibo, gre...| 2015-08-31|\n",
            "|         US|    2377552|R3AQQ4YUKJWBA6|B002UBI6W6|     328764615|Psyclone Recharge...|     Video Games|          1|            0|          0|   N|                Y|            One Star|The remote consta...| 2015-08-31|\n",
            "|         US|   17521011|R2F0POU5K6F73F|B008XHCLFO|      24234603|Protection for yo...|     Video Games|          5|            0|          0|   N|                Y|              A Must|I have a 2012-201...| 2015-08-31|\n",
            "|         US|   19676307|R3VNR804HYSMR6|B00BRA9R6A|     682267517|   Nerf 3DS XL Armor|     Video Games|          5|            0|          0|   N|                Y|          Five Stars|Perfect, kids lov...| 2015-08-31|\n",
            "|         US|     224068| R3GZTM72WA2QH|B009EPWJLA|     435241890|One Piece: Pirate...|     Video Games|          5|            0|          0|   N|                Y|          Five Stars|            Excelent| 2015-08-31|\n",
            "|         US|   48467989| RNQOY62705W1K|B0000AV7GB|     256572651|Playstation 2 Dan...|     Video Games|          4|            0|          0|   N|                Y|          Four Stars|Slippery but expe...| 2015-08-31|\n",
            "|         US|     106569|R1VTIA3JTYBY02|B00008KTNN|     384411423|Metal Arms: Glitc...|     Video Games|          5|            0|          0|   N|                N|          Five Stars|Love the game. Se...| 2015-08-31|\n",
            "|         US|   48269642|R29DOU8791QZL8|B000A3IA0Y|     472622859|72 Pin Connector ...|     Video Games|          1|            0|          0|   N|                Y| Game will get stuck|Does not fit prop...| 2015-08-31|\n",
            "|         US|   52738710|R15DUT1VIJ9RJZ|B0053BQN34|     577628462|uDraw Gametablet ...|     Video Games|          2|            0|          0|   N|                Y|We have tried it ...|This was way too ...| 2015-08-31|\n",
            "|         US|   10556786|R3IMF2MQ3OU9ZM|B002I0HIMI|     988218515|NBA 2K12(Covers M...|     Video Games|          4|            0|          0|   N|                Y|          Four Stars|Works great good ...| 2015-08-31|\n",
            "|         US|    2963837|R23H79DHOZTYAU|B0081EH12M|     770100932|New Trigger Grips...|     Video Games|          1|            1|          1|   N|                Y|Now i have to buy...|It did not fit th...| 2015-08-31|\n",
            "|         US|   23092109| RIV24EQAIXA4O|B005FMLZQQ|      24647669|Xbox 360 Media Re...|     Video Games|          5|            0|          0|   N|                Y|          Five Stars|perfect lightweig...| 2015-08-31|\n",
            "|         US|   23091728|R3UCNGYDVN24YB|B002BSA388|      33706205|Super Mario Galaxy 2|     Video Games|          5|            0|          0|   N|                Y|          Five Stars|               great| 2015-08-31|\n",
            "|         US|   10712640| RUL4H4XTTN2DY|B00BUSLSAC|     829667834|Nintendo 3DS XL -...|     Video Games|          5|            0|          0|   N|                Y|          Five Stars|Works beautifully...| 2015-08-31|\n",
            "|         US|   17455376|R20JF7Z4DHTNX5|B00KWF38AW|     110680188|Captain Toad:  Tr...|     Video Games|          5|            0|          0|   N|                Y|          Five Stars|Kids loved the ga...| 2015-08-31|\n",
            "|         US|   14754850|R2T1AJ5MFI2260|B00BRQJYA8|     616463426|Lego Batman 2: DC...|     Video Games|          4|            0|          0|   N|                Y|          Four Stars|           Goodngame| 2015-08-31|\n",
            "+-----------+-----------+--------------+----------+--------------+--------------------+----------------+-----------+-------------+-----------+----+-----------------+--------------------+--------------------+-----------+\n",
            "only showing top 20 rows\n",
            "\n"
          ],
          "name": "stdout"
        }
      ]
    },
    {
      "cell_type": "code",
      "metadata": {
        "id": "4ubYCQjgikki",
        "colab": {
          "base_uri": "https://localhost:8080/"
        },
        "outputId": "ed2c9df5-727a-4b2d-e9d9-36ae8b300473"
      },
      "source": [
        "# Recreate vine table and analysis from Deliverable 1\n",
        "# Clean up tables\n",
        "dropna_df=df.dropna()\n",
        "dropna_df=df.distinct()\n",
        "dropna_df.show(20)"
      ],
      "execution_count": 5,
      "outputs": [
        {
          "output_type": "stream",
          "text": [
            "+-----------+-----------+--------------+----------+--------------+--------------------+----------------+-----------+-------------+-----------+----+-----------------+--------------------+--------------------+-----------+\n",
            "|marketplace|customer_id|     review_id|product_id|product_parent|       product_title|product_category|star_rating|helpful_votes|total_votes|vine|verified_purchase|     review_headline|         review_body|review_date|\n",
            "+-----------+-----------+--------------+----------+--------------+--------------------+----------------+-----------+-------------+-----------+----+-----------------+--------------------+--------------------+-----------+\n",
            "|         US|   26197704|R10010D6B1QM7U|B004HX5OFW|       8155204|Xbox 360 Slim AC ...|     Video Games|          1|            0|          0|   N|                Y|                 POS|I purchased this ...| 2013-03-28|\n",
            "|         US|   10409381|R100BI61LIKH2N|B000QW9D14|     583724133|Blue Dragon - Xbo...|     Video Games|          5|            1|          2|   N|                Y|              Gamers|My son wanted thi...| 2013-10-28|\n",
            "|         US|   39071377|R100TPJCYDYGBU|B00D3IKP7Y|     378642975|        Pokemon Ruby|     Video Games|          3|            1|          2|   N|                Y|             It's ok|Really difficult ...| 2013-12-31|\n",
            "|         US|   32826337|R1018OO9U6UUWO|B0094X28J0|     272196441|Nintendo Wii Remo...|     Video Games|          5|            0|          0|   N|                Y|Nothing like the ...|Just buy it, i tr...| 2014-03-21|\n",
            "|         US|   16385120|R102YIWZEIAXT9|B000UQAUWW|     694091073|Xbox 360 Console ...|     Video Games|          5|            2|          4|   N|                N|              review|I bought the 360 ...| 2007-11-29|\n",
            "|         US|   14198390|R1034S7FA21OI1|B004S5PBM0|     275810674|           Rocksmith|     Video Games|          5|            2|          2|   N|                Y|Rocksmith is the ...|I self-taught mys...| 2011-11-06|\n",
            "|         US|   16965219|R103LC8CTAHWZ6|B002EE7OKE|     852505908|Sin and Punishmen...|     Video Games|          2|            1|          1|   N|                Y|                 Meh|I heard so much a...| 2013-10-07|\n",
            "|         US|   48295356|R103PT7S4HRIP8|B003R7H5TC|     318359987|Need for Speed: H...|     Video Games|          2|            0|          0|   N|                Y|Not as great as p...|Not nearly as fun...| 2010-12-28|\n",
            "|         US|   21497984|R104RCQZYPYDXS|B000R3BNDI|     318965716|Lego Star Wars: T...|     Video Games|          5|            7|          8|   N|                N|  The Best Game Ever|Dude.  Star Wars....| 2008-02-28|\n",
            "|         US|   22595160|R105KZIXHZW63W|B000NKFEZI|     256274221|   Slingo Quest - PC|     Video Games|          5|            1|          1|   N|                Y|          Easy game.|Easy, layed back ...| 2013-02-04|\n",
            "|         US|   43562425|R105W3ID5NHQ48|B002I0JNK8|     930811126|Test Drive Unlimi...|     Video Games|          3|            8|          9|   N|                Y|Good, but a step ...|Overall, it's a g...| 2011-07-07|\n",
            "|         US|   50248806|R106J0FROF1O34|B0050SWUTQ|     861146594|        Dead Space 3|     Video Games|          4|            0|          0|   N|                Y|          Four Stars|Cool game but not...| 2014-03-14|\n",
            "|         US|   25735311|R10770OX7D4UYW|B0029TSTAS|     905830339|Tony Hawk: Ride S...|     Video Games|          5|            0|          0|   N|                Y|             NanaDeb|A little hard to ...| 2010-01-22|\n",
            "|         US|   48300130|R1077Z2P6K2RHR|B00004YC3N|     300166398|  Dynasty Warriors 2|     Video Games|          5|            0|          0|   N|                N|              Mayhem|This game is fun ...| 2002-03-07|\n",
            "|         US|   15054919|R1080O4SCGC4KQ|B0050SYY5E|     913095161|Halo: Combat Evol...|     Video Games|          5|            0|          0|   N|                Y|If you enjoyed Ha...|...buy this game....| 2012-01-04|\n",
            "|         US|   35277804|R108JMURMSE9LT|B001CM0PR8|     746149715|Animal Crossing: ...|     Video Games|          5|            1|          1|   N|                Y|great fun for any...|This has been a g...| 2009-12-29|\n",
            "|         US|   28386256|R108W55K5VYTA2|B00009KO3S|     962864917|Viewtiful Joe - G...|     Video Games|          4|            0|          1|   N|                N|Viewtiful Joe A V...|From bullet time ...| 2003-08-05|\n",
            "|         US|   24004574|R108XCTHE11G0E|B000G6IP5A|     643852322|Desperate Housewi...|     Video Games|          3|            0|          0|   N|                Y|Fun game but gets...|This game is okay...| 2013-11-25|\n",
            "|         US|   22976371|R108YXX9X92XRQ|B00YY3OK0A|     884170609|SteelSeries Siber...|     Video Games|          5|            1|          1|   Y|                N|Badass headphones...|Badass headphones...| 2015-08-14|\n",
            "|         US|   21244408|R109JIRGTR42YM|B001GANUSC|     709915737|Emergency Room: R...|     Video Games|          5|            7|          8|   N|                N|   Fun medical game!|I thought this ga...| 2010-02-11|\n",
            "+-----------+-----------+--------------+----------+--------------+--------------------+----------------+-----------+-------------+-----------+----+-----------------+--------------------+--------------------+-----------+\n",
            "only showing top 20 rows\n",
            "\n"
          ],
          "name": "stdout"
        }
      ]
    },
    {
      "cell_type": "code",
      "metadata": {
        "id": "Vfhsf-bPikn0",
        "colab": {
          "base_uri": "https://localhost:8080/"
        },
        "outputId": "577b2e61-01cb-400f-a4d3-34aa0822d542"
      },
      "source": [
        "dropna_df.count()"
      ],
      "execution_count": 6,
      "outputs": [
        {
          "output_type": "execute_result",
          "data": {
            "text/plain": [
              "1785997"
            ]
          },
          "metadata": {
            "tags": []
          },
          "execution_count": 6
        }
      ]
    },
    {
      "cell_type": "code",
      "metadata": {
        "colab": {
          "base_uri": "https://localhost:8080/"
        },
        "id": "xRks39gy1MDl",
        "outputId": "29f7f9eb-5da6-472e-dd22-c3a7c285257e"
      },
      "source": [
        "from pyspark.sql.functions import to_date\n",
        "# Read in the Review dataset as a DataFrame\n",
        "dropna_df.show(5)"
      ],
      "execution_count": 8,
      "outputs": [
        {
          "output_type": "stream",
          "text": [
            "+-----------+-----------+--------------+----------+--------------+--------------------+----------------+-----------+-------------+-----------+----+-----------------+--------------------+--------------------+-----------+\n",
            "|marketplace|customer_id|     review_id|product_id|product_parent|       product_title|product_category|star_rating|helpful_votes|total_votes|vine|verified_purchase|     review_headline|         review_body|review_date|\n",
            "+-----------+-----------+--------------+----------+--------------+--------------------+----------------+-----------+-------------+-----------+----+-----------------+--------------------+--------------------+-----------+\n",
            "|         US|   26197704|R10010D6B1QM7U|B004HX5OFW|       8155204|Xbox 360 Slim AC ...|     Video Games|          1|            0|          0|   N|                Y|                 POS|I purchased this ...| 2013-03-28|\n",
            "|         US|   10409381|R100BI61LIKH2N|B000QW9D14|     583724133|Blue Dragon - Xbo...|     Video Games|          5|            1|          2|   N|                Y|              Gamers|My son wanted thi...| 2013-10-28|\n",
            "|         US|   39071377|R100TPJCYDYGBU|B00D3IKP7Y|     378642975|        Pokemon Ruby|     Video Games|          3|            1|          2|   N|                Y|             It's ok|Really difficult ...| 2013-12-31|\n",
            "|         US|   32826337|R1018OO9U6UUWO|B0094X28J0|     272196441|Nintendo Wii Remo...|     Video Games|          5|            0|          0|   N|                Y|Nothing like the ...|Just buy it, i tr...| 2014-03-21|\n",
            "|         US|   16385120|R102YIWZEIAXT9|B000UQAUWW|     694091073|Xbox 360 Console ...|     Video Games|          5|            2|          4|   N|                N|              review|I bought the 360 ...| 2007-11-29|\n",
            "+-----------+-----------+--------------+----------+--------------+--------------------+----------------+-----------+-------------+-----------+----+-----------------+--------------------+--------------------+-----------+\n",
            "only showing top 5 rows\n",
            "\n"
          ],
          "name": "stdout"
        }
      ]
    },
    {
      "cell_type": "code",
      "metadata": {
        "colab": {
          "base_uri": "https://localhost:8080/"
        },
        "id": "X12Fwkbt1MGb",
        "outputId": "dc08e450-eb78-4202-fd81-3e5589ab7e18"
      },
      "source": [
        "# Create the vine_table. DataFrame\n",
        "# vine_df = df.select([])\n",
        "vine_df = dropna_df.select([\"review_id\", \"star_rating\", \"helpful_votes\", \"total_votes\", \"vine\", \"verified_purchase\"])\n",
        "vine_df.show(15)"
      ],
      "execution_count": 9,
      "outputs": [
        {
          "output_type": "stream",
          "text": [
            "+--------------+-----------+-------------+-----------+----+-----------------+\n",
            "|     review_id|star_rating|helpful_votes|total_votes|vine|verified_purchase|\n",
            "+--------------+-----------+-------------+-----------+----+-----------------+\n",
            "|R10010D6B1QM7U|          1|            0|          0|   N|                Y|\n",
            "|R100BI61LIKH2N|          5|            1|          2|   N|                Y|\n",
            "|R100TPJCYDYGBU|          3|            1|          2|   N|                Y|\n",
            "|R1018OO9U6UUWO|          5|            0|          0|   N|                Y|\n",
            "|R102YIWZEIAXT9|          5|            2|          4|   N|                N|\n",
            "|R1034S7FA21OI1|          5|            2|          2|   N|                Y|\n",
            "|R103LC8CTAHWZ6|          2|            1|          1|   N|                Y|\n",
            "|R103PT7S4HRIP8|          2|            0|          0|   N|                Y|\n",
            "|R104RCQZYPYDXS|          5|            7|          8|   N|                N|\n",
            "|R105KZIXHZW63W|          5|            1|          1|   N|                Y|\n",
            "|R105W3ID5NHQ48|          3|            8|          9|   N|                Y|\n",
            "|R106J0FROF1O34|          4|            0|          0|   N|                Y|\n",
            "|R10770OX7D4UYW|          5|            0|          0|   N|                Y|\n",
            "|R1077Z2P6K2RHR|          5|            0|          0|   N|                N|\n",
            "|R1080O4SCGC4KQ|          5|            0|          0|   N|                Y|\n",
            "+--------------+-----------+-------------+-----------+----+-----------------+\n",
            "only showing top 15 rows\n",
            "\n"
          ],
          "name": "stdout"
        }
      ]
    },
    {
      "cell_type": "code",
      "metadata": {
        "colab": {
          "base_uri": "https://localhost:8080/"
        },
        "id": "vF729-881MJP",
        "outputId": "c8ba8d9a-361d-44f9-f6e5-696afceab1e0"
      },
      "source": [
        "# Step 1: Filter/create DataFrame where total_votes count >= 20 \n",
        "vine_total_votes_df= vine_df.filter(\"total_votes>=20\").select(['review_id', 'star_rating', 'helpful_votes', 'total_votes', 'vine', 'verified_purchase'])\n",
        "vine_total_votes_df.show(5)"
      ],
      "execution_count": 13,
      "outputs": [
        {
          "output_type": "stream",
          "text": [
            "+--------------+-----------+-------------+-----------+----+-----------------+\n",
            "|     review_id|star_rating|helpful_votes|total_votes|vine|verified_purchase|\n",
            "+--------------+-----------+-------------+-----------+----+-----------------+\n",
            "|R26Q7L4FI2L0R0|          1|           43|         47|   N|                Y|\n",
            "| R8FTCCXCMWLYT|          1|           43|         46|   N|                Y|\n",
            "|R2NPZ79NDZ87XO|          1|            1|         31|   N|                N|\n",
            "|R350PLZT86NQJR|          4|           46|         55|   N|                Y|\n",
            "|R278LLN5FZIGPU|          1|           24|         42|   N|                N|\n",
            "+--------------+-----------+-------------+-----------+----+-----------------+\n",
            "only showing top 5 rows\n",
            "\n"
          ],
          "name": "stdout"
        }
      ]
    },
    {
      "cell_type": "markdown",
      "metadata": {
        "id": "NVqB4s8g6Zw2"
      },
      "source": [
        ""
      ]
    },
    {
      "cell_type": "code",
      "metadata": {
        "colab": {
          "base_uri": "https://localhost:8080/"
        },
        "id": "1EGQSK511MMN",
        "outputId": "6d136850-d337-4d5b-a412-c9cf40adcb40"
      },
      "source": [
        "# check datatypes\n",
        "# vine_total_votes_df.dtypes\n",
        "# Step 2: Filter/create DataFrame where (helpful_votes/total_votes) => 50%\n",
        "from pyspark.sql.functions import col\n",
        "vine_percents_df=vine_total_votes_df.withColumn('percent', col(\"helpful_votes\")/ col(\"total_votes\"))\n",
        "vine_percents_df=vine_percents_df.filter('percent>=0.5')\n",
        "vine_percents_df.show()"
      ],
      "execution_count": 32,
      "outputs": [
        {
          "output_type": "stream",
          "text": [
            "+--------------+-----------+-------------+-----------+----+-----------------+------------------+\n",
            "|     review_id|star_rating|helpful_votes|total_votes|vine|verified_purchase|           percent|\n",
            "+--------------+-----------+-------------+-----------+----+-----------------+------------------+\n",
            "|R26Q7L4FI2L0R0|          1|           43|         47|   N|                Y|0.9148936170212766|\n",
            "| R8FTCCXCMWLYT|          1|           43|         46|   N|                Y|0.9347826086956522|\n",
            "|R350PLZT86NQJR|          4|           46|         55|   N|                Y|0.8363636363636363|\n",
            "|R278LLN5FZIGPU|          1|           24|         42|   N|                N|0.5714285714285714|\n",
            "|R3VNNA3YL48039|          5|          181|        200|   N|                Y|             0.905|\n",
            "| RZAE1OYOXEOAR|          5|           86|         94|   N|                Y|0.9148936170212766|\n",
            "|R1TBFM7966BSCZ|          1|           33|         56|   N|                Y|0.5892857142857143|\n",
            "|R3NSDYMPN0WV6M|          4|           17|         23|   N|                N|0.7391304347826086|\n",
            "|R2JTML5CKTZHY8|          5|           76|         83|   N|                N|0.9156626506024096|\n",
            "|R12BXKKOXXOFMI|          2|           13|         21|   N|                N|0.6190476190476191|\n",
            "|R3IWO1Q9YQNXYR|          1|           47|         56|   N|                Y|0.8392857142857143|\n",
            "|R1393YE37W0HHM|          1|           16|         24|   N|                N|0.6666666666666666|\n",
            "| ROZKO0WAX8K1S|          2|          145|        162|   N|                Y|0.8950617283950617|\n",
            "|R162SXC8IT7LHE|          4|           58|         63|   N|                N|0.9206349206349206|\n",
            "|R3SMQ44RCVZHWH|          5|           28|         33|   N|                Y|0.8484848484848485|\n",
            "|R3ECSWOKOMG9AU|          1|           81|         99|   N|                N|0.8181818181818182|\n",
            "|R24PS9N276OXF4|          5|          241|        262|   Y|                N|0.9198473282442748|\n",
            "|R2KRJV0KSDTBSN|          1|          124|        145|   N|                Y|0.8551724137931035|\n",
            "|R2J5RX42E38DM3|          5|           65|         67|   N|                N|0.9701492537313433|\n",
            "|R2IDP7F4LUSCBO|          1|           15|         29|   N|                Y|0.5172413793103449|\n",
            "+--------------+-----------+-------------+-----------+----+-----------------+------------------+\n",
            "only showing top 20 rows\n",
            "\n"
          ],
          "name": "stdout"
        }
      ]
    },
    {
      "cell_type": "code",
      "metadata": {
        "colab": {
          "base_uri": "https://localhost:8080/"
        },
        "id": "U3eVdjfwAiiM",
        "outputId": "c343ac8d-53af-403f-e2a7-124a784d5c53"
      },
      "source": [
        "# Step 3: Filter/create \"paid\" DataFrame where vine == 'Y'\n",
        "vine_Y_df=vine_percents_df.filter(col(\"vine\").contains(\"Y\"))\n",
        "vine_Y_df.show()"
      ],
      "execution_count": 35,
      "outputs": [
        {
          "output_type": "stream",
          "text": [
            "+--------------+-----------+-------------+-----------+----+-----------------+------------------+\n",
            "|     review_id|star_rating|helpful_votes|total_votes|vine|verified_purchase|           percent|\n",
            "+--------------+-----------+-------------+-----------+----+-----------------+------------------+\n",
            "|R24PS9N276OXF4|          5|          241|        262|   Y|                N|0.9198473282442748|\n",
            "|R3EPHK0JGQGE91|          5|           21|         28|   Y|                N|              0.75|\n",
            "|R3T4LTJ189G0LT|          4|           37|         45|   Y|                N|0.8222222222222222|\n",
            "| RKG407AVAZXBQ|          3|           22|         25|   Y|                N|              0.88|\n",
            "| RNU8PK609WT6P|          4|          347|        362|   Y|                N|0.9585635359116023|\n",
            "|R11O4YSCPSNL6L|          3|           20|         26|   Y|                N|0.7692307692307693|\n",
            "|R23WY68NT94WKE|          5|          125|        143|   Y|                N|0.8741258741258742|\n",
            "|R3JT907UUA1WUI|          4|           85|        103|   Y|                N|0.8252427184466019|\n",
            "|R2X88G5QRKPDH7|          5|          121|        124|   Y|                N|0.9758064516129032|\n",
            "| R61QRS16PUHET|          5|           38|         41|   Y|                N| 0.926829268292683|\n",
            "| RQ5WD90PUNBU9|          5|           21|         24|   Y|                N|             0.875|\n",
            "|R1L8N6VFY5KDSU|          5|           23|         26|   Y|                N|0.8846153846153846|\n",
            "|R18ZPXBNV1SMSH|          4|           84|        102|   Y|                N|0.8235294117647058|\n",
            "|R3R0F8ETAGTIOT|          5|           14|         20|   Y|                N|               0.7|\n",
            "|R369DSVA6AH6SB|          5|           16|         21|   Y|                N|0.7619047619047619|\n",
            "|R3NGUZ07DTUUSY|          3|           53|         62|   Y|                N|0.8548387096774194|\n",
            "|R1FE1OLQ4T3T1Q|          4|          179|        182|   Y|                N|0.9835164835164835|\n",
            "|  RV8FVXVWTEAX|          4|           97|        107|   Y|                N|0.9065420560747663|\n",
            "|R1PU7JY8XL5M1N|          5|           19|         24|   Y|                N|0.7916666666666666|\n",
            "|R3KAW29CJ8L6DQ|          5|           17|         20|   Y|                N|              0.85|\n",
            "+--------------+-----------+-------------+-----------+----+-----------------+------------------+\n",
            "only showing top 20 rows\n",
            "\n"
          ],
          "name": "stdout"
        }
      ]
    },
    {
      "cell_type": "code",
      "metadata": {
        "colab": {
          "base_uri": "https://localhost:8080/"
        },
        "id": "if6LfFadCBoM",
        "outputId": "8b36c175-945c-4493-cc90-4de520bf9ea3"
      },
      "source": [
        "# Step 4: Filter/create \"unpaid\" DataFrame where vine == 'N'\n",
        "vine_N_df=vine_percents_df.filter(col(\"vine\").contains(\"N\"))\n",
        "vine_N_df.show()"
      ],
      "execution_count": 36,
      "outputs": [
        {
          "output_type": "stream",
          "text": [
            "+--------------+-----------+-------------+-----------+----+-----------------+------------------+\n",
            "|     review_id|star_rating|helpful_votes|total_votes|vine|verified_purchase|           percent|\n",
            "+--------------+-----------+-------------+-----------+----+-----------------+------------------+\n",
            "|R26Q7L4FI2L0R0|          1|           43|         47|   N|                Y|0.9148936170212766|\n",
            "| R8FTCCXCMWLYT|          1|           43|         46|   N|                Y|0.9347826086956522|\n",
            "|R350PLZT86NQJR|          4|           46|         55|   N|                Y|0.8363636363636363|\n",
            "|R278LLN5FZIGPU|          1|           24|         42|   N|                N|0.5714285714285714|\n",
            "|R3VNNA3YL48039|          5|          181|        200|   N|                Y|             0.905|\n",
            "| RZAE1OYOXEOAR|          5|           86|         94|   N|                Y|0.9148936170212766|\n",
            "|R1TBFM7966BSCZ|          1|           33|         56|   N|                Y|0.5892857142857143|\n",
            "|R3NSDYMPN0WV6M|          4|           17|         23|   N|                N|0.7391304347826086|\n",
            "|R2JTML5CKTZHY8|          5|           76|         83|   N|                N|0.9156626506024096|\n",
            "|R12BXKKOXXOFMI|          2|           13|         21|   N|                N|0.6190476190476191|\n",
            "|R3IWO1Q9YQNXYR|          1|           47|         56|   N|                Y|0.8392857142857143|\n",
            "|R1393YE37W0HHM|          1|           16|         24|   N|                N|0.6666666666666666|\n",
            "| ROZKO0WAX8K1S|          2|          145|        162|   N|                Y|0.8950617283950617|\n",
            "|R162SXC8IT7LHE|          4|           58|         63|   N|                N|0.9206349206349206|\n",
            "|R3SMQ44RCVZHWH|          5|           28|         33|   N|                Y|0.8484848484848485|\n",
            "|R3ECSWOKOMG9AU|          1|           81|         99|   N|                N|0.8181818181818182|\n",
            "|R2KRJV0KSDTBSN|          1|          124|        145|   N|                Y|0.8551724137931035|\n",
            "|R2J5RX42E38DM3|          5|           65|         67|   N|                N|0.9701492537313433|\n",
            "|R2IDP7F4LUSCBO|          1|           15|         29|   N|                Y|0.5172413793103449|\n",
            "|R2NE47ZBKE6AY3|          3|           23|         37|   N|                N|0.6216216216216216|\n",
            "+--------------+-----------+-------------+-----------+----+-----------------+------------------+\n",
            "only showing top 20 rows\n",
            "\n"
          ],
          "name": "stdout"
        }
      ]
    },
    {
      "cell_type": "code",
      "metadata": {
        "colab": {
          "base_uri": "https://localhost:8080/"
        },
        "id": "7UlKrmsTCBq6",
        "outputId": "4764f23b-0d6b-45bf-efe2-2875685bb1b1"
      },
      "source": [
        "# Step 5: Determine total reviews, 5-star reviews, and percentage of 5-star reviews for both Dataframes\n",
        "# 5a: count of all rows\n",
        "vine_Y_df.count()"
      ],
      "execution_count": 62,
      "outputs": [
        {
          "output_type": "execute_result",
          "data": {
            "text/plain": [
              "94"
            ]
          },
          "metadata": {
            "tags": []
          },
          "execution_count": 62
        }
      ]
    },
    {
      "cell_type": "code",
      "metadata": {
        "colab": {
          "base_uri": "https://localhost:8080/"
        },
        "id": "9xDEBMqAPYAm",
        "outputId": "487233e5-c769-4d55-b27c-bacf61fd2c11"
      },
      "source": [
        "# 5a: count of all rows\n",
        "vine_N_df.count()"
      ],
      "execution_count": 63,
      "outputs": [
        {
          "output_type": "execute_result",
          "data": {
            "text/plain": [
              "40471"
            ]
          },
          "metadata": {
            "tags": []
          },
          "execution_count": 63
        }
      ]
    },
    {
      "cell_type": "code",
      "metadata": {
        "colab": {
          "base_uri": "https://localhost:8080/"
        },
        "id": "G-je_GAwCBtb",
        "outputId": "4c8bf93a-d4c6-4a6f-c576-c314e1dc5217"
      },
      "source": [
        "# 5b: count of star_rating = 5\n",
        "vine_Y_df.filter(vine_Y_df.star_rating == 5).count()"
      ],
      "execution_count": 64,
      "outputs": [
        {
          "output_type": "execute_result",
          "data": {
            "text/plain": [
              "48"
            ]
          },
          "metadata": {
            "tags": []
          },
          "execution_count": 64
        }
      ]
    },
    {
      "cell_type": "code",
      "metadata": {
        "colab": {
          "base_uri": "https://localhost:8080/"
        },
        "id": "xpnLXwt3Pcgx",
        "outputId": "4f8cbc66-078d-48b1-ca1e-e698262a7c69"
      },
      "source": [
        "# 5b: count of star_rating = 5\n",
        "vine_N_df.filter(vine_N_df.star_rating == 5).count()"
      ],
      "execution_count": 65,
      "outputs": [
        {
          "output_type": "execute_result",
          "data": {
            "text/plain": [
              "15663"
            ]
          },
          "metadata": {
            "tags": []
          },
          "execution_count": 65
        }
      ]
    },
    {
      "cell_type": "code",
      "metadata": {
        "colab": {
          "base_uri": "https://localhost:8080/"
        },
        "id": "T-zRy2klCBwM",
        "outputId": "2fb87c05-8a37-4c73-c396-d975d4576927"
      },
      "source": [
        "# 5c: percent of all rows with a 5 star_rating\n",
        "(vine_Y_df.filter(vine_Y_df.star_rating == 5).count())/(vine_Y_df.count())"
      ],
      "execution_count": 66,
      "outputs": [
        {
          "output_type": "execute_result",
          "data": {
            "text/plain": [
              "0.5106382978723404"
            ]
          },
          "metadata": {
            "tags": []
          },
          "execution_count": 66
        }
      ]
    },
    {
      "cell_type": "code",
      "metadata": {
        "colab": {
          "base_uri": "https://localhost:8080/"
        },
        "id": "PkaSv9uTCByd",
        "outputId": "4decad71-2aba-44e3-d1f6-501fe90eaefb"
      },
      "source": [
        "# 5c: percent of all rows with a 5 star_rating\n",
        "(vine_N_df.filter(vine_N_df.star_rating == 5).count())/(vine_N_df.count())"
      ],
      "execution_count": 67,
      "outputs": [
        {
          "output_type": "execute_result",
          "data": {
            "text/plain": [
              "0.38701786464381904"
            ]
          },
          "metadata": {
            "tags": []
          },
          "execution_count": 67
        }
      ]
    }
  ]
}