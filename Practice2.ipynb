{
  "nbformat": 4,
  "nbformat_minor": 0,
  "metadata": {
    "colab": {
      "name": "Practice2.ipynb",
      "provenance": [],
      "authorship_tag": "ABX9TyNcqk5u9n3XaADW7/iVWI+p",
      "include_colab_link": true
    },
    "kernelspec": {
      "name": "python3",
      "display_name": "Python 3"
    },
    "language_info": {
      "name": "python"
    }
  },
  "cells": [
    {
      "cell_type": "markdown",
      "metadata": {
        "id": "view-in-github",
        "colab_type": "text"
      },
      "source": [
        "<a href=\"https://colab.research.google.com/github/ozloty06/PySpark_Amazon-Vine-Analysis/blob/main/Practice2.ipynb\" target=\"_parent\"><img src=\"https://colab.research.google.com/assets/colab-badge.svg\" alt=\"Open In Colab\"/></a>"
      ]
    },
    {
      "cell_type": "code",
      "metadata": {
        "colab": {
          "base_uri": "https://localhost:8080/"
        },
        "id": "6bknLWUPD1z4",
        "outputId": "bb1f079e-55da-4ae3-af53-bbc34c6236fc"
      },
      "source": [
        "import os\n",
        "# Find the latest version of spark 3.0  from http://www.apache.org/dist/spark/ and enter as the spark version\n",
        "# For example:\n",
        "spark_version = 'spark-3.0.3'\n",
        "# spark_version = 'spark-3.<enter version>'\n",
        "os.environ['SPARK_VERSION']=spark_version\n",
        "\n",
        "# Install Spark and Java\n",
        "!apt-get update\n",
        "!apt-get install openjdk-11-jdk-headless -qq > /dev/null\n",
        "!wget -q http://www.apache.org/dist/spark/$SPARK_VERSION/$SPARK_VERSION-bin-hadoop2.7.tgz\n",
        "!tar xf $SPARK_VERSION-bin-hadoop2.7.tgz\n",
        "!pip install -q findspark\n",
        "\n",
        "# Set Environment Variables\n",
        "import os\n",
        "os.environ[\"JAVA_HOME\"] = \"/usr/lib/jvm/java-11-openjdk-amd64\"\n",
        "os.environ[\"SPARK_HOME\"] = f\"/content/{spark_version}-bin-hadoop2.7\"\n",
        "\n",
        "# Start a SparkSession\n",
        "import findspark\n",
        "findspark.init()"
      ],
      "execution_count": 2,
      "outputs": [
        {
          "output_type": "stream",
          "text": [
            "\r0% [Working]\r            \rGet:1 http://security.ubuntu.com/ubuntu bionic-security InRelease [88.7 kB]\n",
            "\r0% [Connecting to archive.ubuntu.com (91.189.88.142)] [1 InRelease 14.2 kB/88.7\r                                                                               \rGet:2 https://cloud.r-project.org/bin/linux/ubuntu bionic-cran40/ InRelease [3,626 B]\n",
            "Ign:3 https://developer.download.nvidia.com/compute/cuda/repos/ubuntu1804/x86_64  InRelease\n",
            "Get:4 http://ppa.launchpad.net/c2d4u.team/c2d4u4.0+/ubuntu bionic InRelease [15.9 kB]\n",
            "Ign:5 https://developer.download.nvidia.com/compute/machine-learning/repos/ubuntu1804/x86_64  InRelease\n",
            "Get:6 https://developer.download.nvidia.com/compute/cuda/repos/ubuntu1804/x86_64  Release [697 B]\n",
            "Hit:7 https://developer.download.nvidia.com/compute/machine-learning/repos/ubuntu1804/x86_64  Release\n",
            "Get:8 https://developer.download.nvidia.com/compute/cuda/repos/ubuntu1804/x86_64  Release.gpg [836 B]\n",
            "Hit:9 http://archive.ubuntu.com/ubuntu bionic InRelease\n",
            "Get:10 http://archive.ubuntu.com/ubuntu bionic-updates InRelease [88.7 kB]\n",
            "Get:11 https://cloud.r-project.org/bin/linux/ubuntu bionic-cran40/ Packages [62.9 kB]\n",
            "Hit:12 http://ppa.launchpad.net/cran/libgit2/ubuntu bionic InRelease\n",
            "Hit:13 http://ppa.launchpad.net/deadsnakes/ppa/ubuntu bionic InRelease\n",
            "Get:14 http://security.ubuntu.com/ubuntu bionic-security/main amd64 Packages [2,263 kB]\n",
            "Get:15 http://archive.ubuntu.com/ubuntu bionic-backports InRelease [74.6 kB]\n",
            "Get:16 http://ppa.launchpad.net/graphics-drivers/ppa/ubuntu bionic InRelease [21.3 kB]\n",
            "Get:17 http://security.ubuntu.com/ubuntu bionic-security/restricted amd64 Packages [510 kB]\n",
            "Get:18 http://security.ubuntu.com/ubuntu bionic-security/multiverse amd64 Packages [26.7 kB]\n",
            "Get:19 http://security.ubuntu.com/ubuntu bionic-security/universe amd64 Packages [1,420 kB]\n",
            "Ign:21 https://developer.download.nvidia.com/compute/cuda/repos/ubuntu1804/x86_64  Packages\n",
            "Get:21 https://developer.download.nvidia.com/compute/cuda/repos/ubuntu1804/x86_64  Packages [695 kB]\n",
            "Get:22 http://ppa.launchpad.net/c2d4u.team/c2d4u4.0+/ubuntu bionic/main Sources [1,786 kB]\n",
            "Get:23 http://archive.ubuntu.com/ubuntu bionic-updates/restricted amd64 Packages [544 kB]\n",
            "Get:24 http://archive.ubuntu.com/ubuntu bionic-updates/universe amd64 Packages [2,195 kB]\n",
            "Get:25 http://ppa.launchpad.net/c2d4u.team/c2d4u4.0+/ubuntu bionic/main amd64 Packages [914 kB]\n",
            "Get:26 http://archive.ubuntu.com/ubuntu bionic-updates/multiverse amd64 Packages [39.5 kB]\n",
            "Get:27 http://archive.ubuntu.com/ubuntu bionic-updates/main amd64 Packages [2,698 kB]\n",
            "Get:28 http://ppa.launchpad.net/graphics-drivers/ppa/ubuntu bionic/main amd64 Packages [44.1 kB]\n",
            "Fetched 13.5 MB in 4s (3,439 kB/s)\n",
            "Reading package lists... Done\n"
          ],
          "name": "stdout"
        }
      ]
    },
    {
      "cell_type": "code",
      "metadata": {
        "colab": {
          "base_uri": "https://localhost:8080/"
        },
        "id": "Q0I098PBC0wY",
        "outputId": "2edab068-34f5-4d8c-8b1f-de9d3ebbe092"
      },
      "source": [
        "# 16.4.3\n",
        "# Start Spark Session\n",
        "from pyspark.sql import SparkSession\n",
        "spark = SparkSession.builder.appName(\"DataFrameFunctions\").getOrCreate()\n",
        "\n",
        "# Read in data from S3 Buckets\n",
        "from pyspark import SparkFiles\n",
        "url = \"https://s3.amazonaws.com/dataviz-curriculum/day_1/wine.csv\"\n",
        "spark.sparkContext.addFile(url)\n",
        "df= spark.read.csv(SparkFiles.get(\"wine.csv\"), sep=\",\", header=True)\n",
        "\n",
        "# Show DataFrame\n",
        "df.show()"
      ],
      "execution_count": 3,
      "outputs": [
        {
          "output_type": "stream",
          "text": [
            "+-------+--------------------+--------------------+------+-----+------------------+--------------------+-----------------+------------------+--------------------+\n",
            "|country|         description|         designation|points|price|          province|            region_1|         region_2|           variety|              winery|\n",
            "+-------+--------------------+--------------------+------+-----+------------------+--------------------+-----------------+------------------+--------------------+\n",
            "|     US|This tremendous 1...|   Martha's Vineyard|    96|  235|        California|         Napa Valley|             Napa|Cabernet Sauvignon|               Heitz|\n",
            "|  Spain|Ripe aromas of fi...|Carodorum Selecci...|    96|  110|    Northern Spain|                Toro|             null|     Tinta de Toro|Bodega Carmen Rod...|\n",
            "|     US|Mac Watson honors...|Special Selected ...|    96|   90|        California|      Knights Valley|           Sonoma|   Sauvignon Blanc|            Macauley|\n",
            "|     US|This spent 20 mon...|             Reserve|    96|   65|            Oregon|   Willamette Valley|Willamette Valley|        Pinot Noir|               Ponzi|\n",
            "| France|This is the top w...|         La Br��lade|    95|   66|          Provence|              Bandol|             null|Provence red blend|Domaine de la B̩gude|\n",
            "|  Spain|Deep, dense and p...|           Numanthia|    95|   73|    Northern Spain|                Toro|             null|     Tinta de Toro|           Numanthia|\n",
            "|  Spain|Slightly gritty b...|          San Rom��n|    95|   65|    Northern Spain|                Toro|             null|     Tinta de Toro|            Maurodos|\n",
            "|  Spain|Lush cedary black...|Carodorum �_nico ...|    95|  110|    Northern Spain|                Toro|             null|     Tinta de Toro|Bodega Carmen Rod...|\n",
            "|     US|This re-named vin...|              Silice|    95|   65|            Oregon|  Chehalem Mountains|Willamette Valley|        Pinot Noir|           Bergstr̦m|\n",
            "|     US|The producer sour...|Gap's Crown Vineyard|    95|   60|        California|        Sonoma Coast|           Sonoma|        Pinot Noir|           Blue Farm|\n",
            "|  Italy|Elegance, complex...|  Ronco della Chiesa|    95|   80|Northeastern Italy|              Collio|             null|          Friulano|    Borgo del Tiglio|\n",
            "|     US|From 18-year-old ...|Estate Vineyard W...|    95|   48|            Oregon|        Ribbon Ridge|Willamette Valley|        Pinot Noir|Patricia Green Ce...|\n",
            "|     US|A standout even i...|      Weber Vineyard|    95|   48|            Oregon|        Dundee Hills|Willamette Valley|        Pinot Noir|Patricia Green Ce...|\n",
            "| France|This wine is in p...|Ch̢teau Montus Pr...|    95|   90|  Southwest France|             Madiran|             null|            Tannat|   Vignobles Brumont|\n",
            "|     US|With its sophisti...|      Grace Vineyard|    95|  185|            Oregon|        Dundee Hills|Willamette Valley|        Pinot Noir|      Domaine Serene|\n",
            "|     US|First made in 200...|              Sigrid|    95|   90|            Oregon|   Willamette Valley|Willamette Valley|        Chardonnay|           Bergstr̦m|\n",
            "|     US|This blockbuster,...|     Rainin Vineyard|    95|  325|        California|Diamond Mountain ...|             Napa|Cabernet Sauvignon|                Hall|\n",
            "|  Spain|Nicely oaked blac...|6 A̱os Reserva Pr...|    95|   80|    Northern Spain|    Ribera del Duero|             null|       Tempranillo|            Valduero|\n",
            "| France|Coming from a sev...|       Le Pigeonnier|    95|  290|  Southwest France|              Cahors|             null|            Malbec|  Ch̢teau Lagr̩zette|\n",
            "|     US|This fresh and li...|Gap's Crown Vineyard|    95|   75|        California|        Sonoma Coast|           Sonoma|        Pinot Noir|        Gary Farrell|\n",
            "+-------+--------------------+--------------------+------+-----+------------------+--------------------+-----------------+------------------+--------------------+\n",
            "only showing top 20 rows\n",
            "\n"
          ],
          "name": "stdout"
        }
      ]
    },
    {
      "cell_type": "code",
      "metadata": {
        "colab": {
          "base_uri": "https://localhost:8080/"
        },
        "id": "5oRr6OADQkAF",
        "outputId": "6ce763ed-117a-467f-a452-82414e6b526e"
      },
      "source": [
        "# Order a DataFrame by ascending values \n",
        "df.orderBy(df[\"points\"].desc()).show(5)"
      ],
      "execution_count": 17,
      "outputs": [
        {
          "output_type": "stream",
          "text": [
            "+-------+--------------------+--------------------+------+-----+----------+--------------------+---------------+---------------+--------------------+\n",
            "|country|         description|         designation|points|price|  province|            region_1|       region_2|        variety|              winery|\n",
            "+-------+--------------------+--------------------+------+-----+----------+--------------------+---------------+---------------+--------------------+\n",
            "|  Italy|Here's a ���wow�۝...|            Messorio|    99|  320|   Tuscany|             Toscana|           null|         Merlot|        Le Macchiole|\n",
            "|     US|A stupendous Pino...|Precious Mountain...|    99|   94|California|        Sonoma Coast|         Sonoma|     Pinot Noir|     Williams Selyem|\n",
            "|  Italy|The 2007 Ornellai...|           Ornellaia|    99|  200|   Tuscany|  Bolgheri Superiore|           null|      Red Blend|Tenuta dell'Ornel...|\n",
            "|     US|Depth and texture...|Royal City Stoner...|    99|  140|Washington|Columbia Valley (WA)|Columbia Valley|          Syrah|       Charles Smith|\n",
            "| France|A magnificent Cha...|Dom P̩rignon Oeno...|    99|  385| Champagne|           Champagne|           null|Champagne Blend|     Mo��t & Chandon|\n",
            "+-------+--------------------+--------------------+------+-----+----------+--------------------+---------------+---------------+--------------------+\n",
            "only showing top 5 rows\n",
            "\n"
          ],
          "name": "stdout"
        }
      ]
    },
    {
      "cell_type": "code",
      "metadata": {
        "colab": {
          "base_uri": "https://localhost:8080/"
        },
        "id": "5zuJSD9VRpCw",
        "outputId": "89fb7bbf-4c9e-42c4-b92e-ce4e15b9c15c"
      },
      "source": [
        "# Order a DataFrame by ascending values \n",
        "df.orderBy(df[\"price\"].desc()).show(50)"
      ],
      "execution_count": 19,
      "outputs": [
        {
          "output_type": "stream",
          "text": [
            "+--------------------+--------------------+--------------------+--------------------+--------------------+----------------+--------------------+-----------------+--------------------+--------------------+\n",
            "|             country|         description|         designation|              points|               price|        province|            region_1|         region_2|             variety|              winery|\n",
            "+--------------------+--------------------+--------------------+--------------------+--------------------+----------------+--------------------+-----------------+--------------------+--------------------+\n",
            "|               Italy|\"Made with a blen...| black pepper and...| biodynamic and o...|       Munjebel 7 VA|              91|                  50|Sicily & Sardinia|                Etna|                null|\n",
            "|              France|\"The nose is domi...| and at this poin...|   given the price.\"|         Les Charmes|              87|                  65|         Burgundy|   Chambolle-Musigny|                null|\n",
            "|              France|\"The nose is domi...| and at this poin...|   given the price.\"|         Les Charmes|              87|                  65|         Burgundy|   Chambolle-Musigny|                null|\n",
            "|                  US|\"This Cabernet-Me...| which in this ca...| the wine should ...|Estate Monte Bell...|              95|                  40|       California|Santa Cruz Mountains|       Central Coast|\n",
            "|blackberry and bl...| which is rich in...| smoky oak. But i...|       so drink up.\"|       Artist Series|              87|                  60|       California|       Sonoma County|              Sonoma|\n",
            "|              France|This offers a goo...|Beaune-Gr̬ves Pre...|                  92|                  99|        Burgundy|              Beaune|             null|          Pinot Noir|      Joseph Drouhin|\n",
            "|              France|With its rich toa...|       Brut Prestige|                  90|                  99|       Champagne|           Champagne|             null|     Champagne Blend|      Charles Ellner|\n",
            "|            Portugal|Named after the e...|  O. Leucura Reserva|                  94|                  99|           Douro|                null|             null|      Portuguese Red|              Duorum|\n",
            "|               Italy|This beautiful ex...|            La Serra|                  96|                  99|        Piedmont|              Barolo|             null|            Nebbiolo|    Eugenio Bocchino|\n",
            "|            Portugal|This wine comes f...|            Estremus|                  95|                  99|      Alentejano|                null|             null|      Portuguese Red|   J. Portugal Ramos|\n",
            "|                  US|Domaine Carneros'...|Le R̻ve Blanc de ...|                  91|                  99|      California|            Carneros|      Napa-Sonoma|     Sparkling Blend|    Domaine Carneros|\n",
            "|              France|A finely poised w...|En Virondot Premi...|                  92|                  99|        Burgundy|Chassagne-Montrachet|             null|          Chardonnay|  Domaine Marc Morey|\n",
            "|                  US|This one-of-a-kin...|           Statement|                  95|                  99|          Oregon|        Ribbon Ridge|Willamette Valley|          Pinot Noir|            Chehalem|\n",
            "|               Italy|There's just some...|Castello di Fonte...|                  94|                  99|         Tuscany|             Toscana|             null|           Red Blend|              Mazzei|\n",
            "|              France|From a small parc...|La Madeleine de S...|                  92|                  99|Southwest France|          Saint-Mont|             null|           Red Blend|Producteurs Plaimont|\n",
            "|              France|Despite showing a...|     Les Archev̻ques|                  92|                  99|    Rh̫ne Valley|            Condrieu|             null|            Viognier|  Les Vins de Vienne|\n",
            "|             Germany|Billowing with sc...|R�_desheimer Berg...|                  94|                  99|        Rheingau|                null|             null|            Riesling|         Dr. N�_gler|\n",
            "|                  US|This one-of-a-kin...|           Statement|                  95|                  99|          Oregon|        Ribbon Ridge|Willamette Valley|          Pinot Noir|            Chehalem|\n",
            "|              France|The first vintage...|       Haute Densit̩|                  92|                  99|    Loire Valley|        Pouilly-Fum̩|             null|     Sauvignon Blanc|    Ch̢teau de Tracy|\n",
            "|               Italy|You'll appreciate...|      Sogno dell'Uva|                  90|                  99|         Tuscany|             Toscana|             null|           Red Blend|           Cennatoio|\n",
            "|           Australia|A big, burly, mus...|               Eligo|                  93|                  99| South Australia|             Barossa|             null|              Shiraz|    John Duval Wines|\n",
            "|               Italy|The Costa Grimald...|      Costa Grimaldi|                  92|                  99|        Piedmont|              Barolo|             null|            Nebbiolo|Poderi Luigi Einaudi|\n",
            "|              France|Fresh crushed str...|     Cuv̩e Ros̩ Brut|                  89|                  99|       Champagne|           Champagne|             null|     Champagne Blend|     Laurent-Perrier|\n",
            "|              France|Warm and rich, ev...| Grande Sendr̩e Brut|                  92|                  99|       Champagne|           Champagne|             null|     Champagne Blend|            Drappier|\n",
            "|           Australia|A big, burly, mus...|               Eligo|                  93|                  99| South Australia|             Barossa|             null|              Shiraz|    John Duval Wines|\n",
            "|               Spain|This purple-tinte...|        Tros de Clos|                  93|                  99|       Catalonia|             Priorat|             null|            Carignan|  Portal del Priorat|\n",
            "|               Spain|This purple-tinte...|        Tros de Clos|                  93|                  99|       Catalonia|             Priorat|             null|            Carignan|  Portal del Priorat|\n",
            "|         New Zealand|This has the look...|               Aroha|                  92|                  99|   Martinborough|                null|             null|          Pinot Noir|        Craggy Range|\n",
            "|              France|From a vineyard p...|       Haute Densit̩|                  93|                  99|    Loire Valley|        Pouilly-Fum̩|             null|     Sauvignon Blanc|    Ch̢teau de Tracy|\n",
            "|               Italy|This landmark Ita...|          Tignanello|                  94|                  99|         Tuscany|             Toscana|             null|           Red Blend|   Marchesi Antinori|\n",
            "|               Italy|You'll appreciate...|      Sogno dell'Uva|                  90|                  99|         Tuscany|             Toscana|             null|           Red Blend|           Cennatoio|\n",
            "|               Italy|The Costa Grimald...|      Costa Grimaldi|                  92|                  99|        Piedmont|              Barolo|             null|            Nebbiolo|Poderi Luigi Einaudi|\n",
            "|               Italy|This beautiful wi...|              Vanotu|                  92|                  99|        Piedmont|          Barbaresco|             null|            Nebbiolo|           Pelissero|\n",
            "|               Spain|Melis is a projec...|               Melis|                  92|                  99|       Catalonia|             Priorat|             null|           Red Blend|       Cellers Melis|\n",
            "|               Italy|There's just some...|Castello di Fonte...|                  94|                  99|         Tuscany|             Toscana|             null|           Red Blend|              Mazzei|\n",
            "|              France|Gorgeous, delicio...|Extra Cuv̩e de R̩...|                  94|                  99|       Champagne|           Champagne|             null|          Chardonnay|           Pol Roger|\n",
            "|               Italy|This  boasts a br...|             Riserva|                  92|                  99|         Tuscany|Brunello di Monta...|             null|   Sangiovese Grosso|  Villa Poggio Salvi|\n",
            "|               Italy|Of the wines tast...|             Riserva|                  90|                  99|         Tuscany|Vino Nobile di Mo...|             null|          Sangiovese|           Carpineto|\n",
            "|         New Zealand|Shows obvious oak...|              Esslin|                  87|                  99|  Waiheke Island|                null|             null|              Merlot|           Goldwater|\n",
            "|             Germany|A bit over the to...|Erdener Treppchen...|                  90|                  99|Mosel-Saar-Ruwer|                null|             null|            Riesling|       Stephan Ehlen|\n",
            "|             Austria|You can hear the ...|Z̦binger Heiligen...|                  94|                  99|         Kamptal|                null|             null|            Riesling|        Br�_ndlmayer|\n",
            "|              France|A beautiful ripe,...| Grande Sendr̩e Brut|                  90|                  99|       Champagne|           Champagne|             null|     Champagne Blend|            Drappier|\n",
            "|             Austria|The aroma is a pe...|       Beerenauslese|                  92|                  99|         Kamptal|                null|             null|  Gelber Muskateller|        Br�_ndlmayer|\n",
            "|               Italy|This  boasts a br...|             Riserva|                  92|                  99|         Tuscany|Brunello di Monta...|             null|   Sangiovese Grosso|  Villa Poggio Salvi|\n",
            "|               Italy|This Barolo has a...|              Boiolo|                  88|                  99|        Piedmont|              Barolo|             null|            Nebbiolo|             Camparo|\n",
            "|               Italy|A softer, gentler...|      Sor�� Ginestra|                  89|                  99|        Piedmont|              Barolo|             null|            Nebbiolo|    Conterno Fantino|\n",
            "|              France|A rich layer of r...|Ile des Vergeless...|                  89|                  99|        Burgundy| Pernand-Vergelesses|             null|          Pinot Noir|Domaine Laleure-Piot|\n",
            "|              France|From a vineyard p...|       Haute Densit̩|                  93|                  99|    Loire Valley|        Pouilly-Fum̩|             null|     Sauvignon Blanc|    Ch̢teau de Tracy|\n",
            "|               Italy|Aromas of forest ...|         Helichrysum|                  89|                  99|         Tuscany|Brunello di Monta...|             null|          Sangiovese|          San Polino|\n",
            "|               Italy|This beautiful ex...|            La Serra|                  96|                  99|        Piedmont|              Barolo|             null|            Nebbiolo|    Eugenio Bocchino|\n",
            "+--------------------+--------------------+--------------------+--------------------+--------------------+----------------+--------------------+-----------------+--------------------+--------------------+\n",
            "only showing top 50 rows\n",
            "\n"
          ],
          "name": "stdout"
        }
      ]
    },
    {
      "cell_type": "code",
      "metadata": {
        "colab": {
          "base_uri": "https://localhost:8080/"
        },
        "id": "NpO79E72SLr5",
        "outputId": "852459bd-4a11-47c1-b304-3ceda679940c"
      },
      "source": [
        "# Import function\n",
        "from pyspark.sql.functions import avg\n",
        "df.select(avg(\"points\")).show()"
      ],
      "execution_count": 20,
      "outputs": [
        {
          "output_type": "stream",
          "text": [
            "+-----------------+\n",
            "|      avg(points)|\n",
            "+-----------------+\n",
            "|87.88834105383143|\n",
            "+-----------------+\n",
            "\n"
          ],
          "name": "stdout"
        }
      ]
    },
    {
      "cell_type": "code",
      "metadata": {
        "colab": {
          "base_uri": "https://localhost:8080/"
        },
        "id": "JvZzMyzkSbDn",
        "outputId": "495c0603-613d-4616-93b8-b0ced3920d55"
      },
      "source": [
        "# Filter by price on certain columns\n",
        "df.filter(\"price<20\").select(['points','country','winery','price']).show(5)"
      ],
      "execution_count": 21,
      "outputs": [
        {
          "output_type": "stream",
          "text": [
            "+------+--------+--------------------+-----+\n",
            "|points| country|              winery|price|\n",
            "+------+--------+--------------------+-----+\n",
            "|    90|Bulgaria|        Villa Melnik|   15|\n",
            "|    90|   Spain|      Don Bernardino|   17|\n",
            "|    90|      US|            De Loach|   18|\n",
            "|    91|      US|   Trinity Vineyards|   19|\n",
            "|    91|Portugal|Adega Cooperativa...|   15|\n",
            "+------+--------+--------------------+-----+\n",
            "only showing top 5 rows\n",
            "\n"
          ],
          "name": "stdout"
        }
      ]
    },
    {
      "cell_type": "code",
      "metadata": {
        "colab": {
          "base_uri": "https://localhost:8080/"
        },
        "id": "5-TOCpm6SqP_",
        "outputId": "478d47b4-a45a-4c4e-9a46-cac55761c005"
      },
      "source": [
        "df.filter(df[\"country\"] == \"US\").show(50)"
      ],
      "execution_count": 23,
      "outputs": [
        {
          "output_type": "stream",
          "text": [
            "+-------+--------------------+--------------------+------+-----+----------+--------------------+--------------------+--------------------+--------------------+\n",
            "|country|         description|         designation|points|price|  province|            region_1|            region_2|             variety|              winery|\n",
            "+-------+--------------------+--------------------+------+-----+----------+--------------------+--------------------+--------------------+--------------------+\n",
            "|     US|This tremendous 1...|   Martha's Vineyard|    96|  235|California|         Napa Valley|                Napa|  Cabernet Sauvignon|               Heitz|\n",
            "|     US|Mac Watson honors...|Special Selected ...|    96|   90|California|      Knights Valley|              Sonoma|     Sauvignon Blanc|            Macauley|\n",
            "|     US|This spent 20 mon...|             Reserve|    96|   65|    Oregon|   Willamette Valley|   Willamette Valley|          Pinot Noir|               Ponzi|\n",
            "|     US|This re-named vin...|              Silice|    95|   65|    Oregon|  Chehalem Mountains|   Willamette Valley|          Pinot Noir|           Bergstr̦m|\n",
            "|     US|The producer sour...|Gap's Crown Vineyard|    95|   60|California|        Sonoma Coast|              Sonoma|          Pinot Noir|           Blue Farm|\n",
            "|     US|From 18-year-old ...|Estate Vineyard W...|    95|   48|    Oregon|        Ribbon Ridge|   Willamette Valley|          Pinot Noir|Patricia Green Ce...|\n",
            "|     US|A standout even i...|      Weber Vineyard|    95|   48|    Oregon|        Dundee Hills|   Willamette Valley|          Pinot Noir|Patricia Green Ce...|\n",
            "|     US|With its sophisti...|      Grace Vineyard|    95|  185|    Oregon|        Dundee Hills|   Willamette Valley|          Pinot Noir|      Domaine Serene|\n",
            "|     US|First made in 200...|              Sigrid|    95|   90|    Oregon|   Willamette Valley|   Willamette Valley|          Chardonnay|           Bergstr̦m|\n",
            "|     US|This blockbuster,...|     Rainin Vineyard|    95|  325|California|Diamond Mountain ...|                Napa|  Cabernet Sauvignon|                Hall|\n",
            "|     US|This fresh and li...|Gap's Crown Vineyard|    95|   75|California|        Sonoma Coast|              Sonoma|          Pinot Noir|        Gary Farrell|\n",
            "|     US|Heitz has made th...|          Grignolino|    95|   24|California|         Napa Valley|                Napa|                Ros̩|               Heitz|\n",
            "|     US|The apogee of thi...|       Giallo Solare|    95|   60|California|         Edna Valley|       Central Coast|          Chardonnay|    Center of Effort|\n",
            "|     US|San Jose-based pr...|       R-Bar-R Ranch|    95|   45|California|Santa Cruz Mountains|       Central Coast|          Pinot Noir|            Comartin|\n",
            "|     US|Bergstr̦m has mad...|       Shea Vineyard|    94|   62|    Oregon|   Willamette Valley|                null|          Pinot Noir|           Bergstr̦m|\n",
            "|     US|Focused and dense...|             Abetina|    94|  105|    Oregon|   Willamette Valley|   Willamette Valley|          Pinot Noir|               Ponzi|\n",
            "|     US|Cranberry, baked ...|     Garys' Vineyard|    94|   60|California|Santa Lucia Highl...|       Central Coast|          Pinot Noir|                Roar|\n",
            "|     US|This standout Roc...|     The Funk Estate|    94|   60|Washington|Walla Walla Valle...|     Columbia Valley|               Syrah|              Saviah|\n",
            "|     US|Steely and perfum...|            Babushka|    90|   37|California|Russian River Valley|              Sonoma|          Chardonnay|            Zepaltas|\n",
            "|     US|The aromas entice...| Conner Lee Vineyard|    90|   42|Washington|Columbia Valley (WA)|     Columbia Valley|          Chardonnay|                Buty|\n",
            "|     US|This is an aromat...|     Private Reserve|    90|   55|     Idaho|                null|                null|        Petite Sirah|              Huston|\n",
            "|     US|Blended with 9% M...|        Estate Grown|    90|   60|California|        Mount Veeder|                Napa|  Cabernet Sauvignon|            Brandlin|\n",
            "|     US|The aromas of blu...|                null|    90|   40|Washington|        Red Mountain|     Columbia Valley|  Cabernet Sauvignon|          Canvasback|\n",
            "|     US|There's a lot to ...|                null|    90|   18|California|Russian River Valley|              Sonoma|          Chardonnay|            De Loach|\n",
            "|     US|A blend of Cabern...|          Four Flags|    90|   69|Washington|        Red Mountain|     Columbia Valley|  Cabernet Sauvignon|             DeLille|\n",
            "|     US|While exuberantly...|             Reserve|    90|   25|  New York|        Finger Lakes|        Finger Lakes|            Riesling|Dr. Konstantin Frank|\n",
            "|     US|Cabernet makes up...|         Final Final|    90|   30|Washington|Columbia Valley (WA)|     Columbia Valley|Cabernet Sauvigno...|              Efeste|\n",
            "|     US|Fresh boysenberri...|       Estate Select|    91|   36|California|  Santa Clara Valley|       Central Coast|               Syrah|      Jason-Stephens|\n",
            "|     US|From the producer...|               Animo|    91|   85|California|         Napa Valley|                Napa|  Cabernet Sauvignon|Michael Mondavi F...|\n",
            "|     US|Big, bold, dark a...|  Schindler Vineyard|    91|   50|    Oregon|    Eola-Amity Hills|   Willamette Valley|          Pinot Noir|       Panther Creek|\n",
            "|     US|A juiciness of ch...|       Barrel Select|    91|   60|California|          Rutherford|                Napa|  Cabernet Sauvignon|Provenance Vineyards|\n",
            "|     US|Sweetened tannins...| District Collection|    91|   85|California|          St. Helena|                Napa|  Cabernet Sauvignon|             Raymond|\n",
            "|     US|This wine draws f...|                null|    91|   45|California|        Sonoma Coast|              Sonoma|          Pinot Noir|             Red Car|\n",
            "|     US|Massively fruity,...|                null|    91|   19|    Oregon|   Willamette Valley|   Willamette Valley|          Pinot Gris|   Trinity Vineyards|\n",
            "|     US|An elegant blend ...|       Premier Cuv̩e|    91|   54|    Oregon|   Willamette Valley|   Willamette Valley|          Pinot Noir|      Archery Summit|\n",
            "|     US|Given four months...|    Juliana Vineyard|    91|   38|California|         Napa Valley|                Napa|     Sauvignon Blanc|           B Cellars|\n",
            "|     US|This wine over-de...|                null|    91|   28|California|         Napa Valley|                Napa|  Cabernet Sauvignon|              B Side|\n",
            "|     US|Generous black-ch...|             Aeolian|    91|   42|    Oregon|    Eola-Amity Hills|   Willamette Valley|          Pinot Noir|      Bethel Heights|\n",
            "|     US|From a multiplici...|                null|    91|   22|California|         Napa Valley|                Napa|  Cabernet Sauvignon|          Eagle Glen|\n",
            "|     US|The first Pinot N...| Bacigalupi Vineyard|    91|   65|California|Russian River Valley|              Sonoma|          Pinot Noir|       Eleven Eleven|\n",
            "|     US|A red Meritage dr...|          Magnificat|    91|   50|California|         Napa Valley|                Napa|            Meritage|          Franciscan|\n",
            "|     US|Bright, light oak...|                null|    86|   10|California|          California|    California Other|  Cabernet Sauvignon|      Belle Ambiance|\n",
            "|     US|A smoky scent and...|     Small Lot Blend|    86|   13|California|    Mendocino County|Mendocino/Lake Co...|          Chardonnay|            Parducci|\n",
            "|     US|This is an easygo...|                null|    86|   18|California|          California|    California Other|          Chardonnay|     The Naked Grape|\n",
            "|     US|Blended with smal...|                null|    86|   36|California|       Sonoma Valley|              Sonoma|  Cabernet Sauvignon|            Tin Barn|\n",
            "|     US|Juicy kiwi, lime ...|                null|    86|   24|California|         South Coast|         South Coast|            Viognier|   Hawk Watch Winery|\n",
            "|     US|Brambly and herba...|           Stephanie|    86|   50|California|         Napa Valley|                Napa|  Cabernet Sauvignon|              Hestan|\n",
            "|     US|This Cabernet Sau...|       Bella's Blend|    86|   48|California|      Knights Valley|              Sonoma|Cabernet Sauvigno...|               Ehret|\n",
            "|     US|Fans of stickies ...|Tears of Dew Late...|    86|   20|California|         Paso Robles|       Central Coast|             Moscato|                 EOS|\n",
            "|     US|Aromas of ripe (l...|Tudor Hills Vineyard|    86|   17|Washington|       Yakima Valley|     Columbia Valley|        Pinot Grigio| Martinez & Martinez|\n",
            "+-------+--------------------+--------------------+------+-----+----------+--------------------+--------------------+--------------------+--------------------+\n",
            "only showing top 50 rows\n",
            "\n"
          ],
          "name": "stdout"
        }
      ]
    },
    {
      "cell_type": "code",
      "metadata": {
        "colab": {
          "base_uri": "https://localhost:8080/"
        },
        "id": "9GIHdQ-wT63N",
        "outputId": "58ccc294-3c66-4765-8009-c6d3fb98b831"
      },
      "source": [
        "df.filter(df[\"price\"] < 45).show(50)"
      ],
      "execution_count": 30,
      "outputs": [
        {
          "output_type": "stream",
          "text": [
            "+---------+--------------------+--------------------+------+-----+----------------+--------------------+--------------------+--------------------+--------------------+\n",
            "|  country|         description|         designation|points|price|        province|            region_1|            region_2|             variety|              winery|\n",
            "+---------+--------------------+--------------------+------+-----+----------------+--------------------+--------------------+--------------------+--------------------+\n",
            "|       US|Heitz has made th...|          Grignolino|    95|   24|      California|         Napa Valley|                Napa|                Ros̩|               Heitz|\n",
            "| Bulgaria|This Bulgarian Ma...|             Bergul̩|    90|   15|        Bulgaria|                null|                null|              Mavrud|        Villa Melnik|\n",
            "|       US|Steely and perfum...|            Babushka|    90|   37|      California|Russian River Valley|              Sonoma|          Chardonnay|            Zepaltas|\n",
            "|   France|Pale in color, th...|Nonpareil Tr̩sor ...|    90|   22|    France Other|        Vin Mousseux|                null|     Sparkling Blend|      Bouvet-Ladubay|\n",
            "|       US|The aromas entice...| Conner Lee Vineyard|    90|   42|      Washington|Columbia Valley (WA)|     Columbia Valley|          Chardonnay|                Buty|\n",
            "|    Italy|Aromas of forest ...|                null|    90|   29|         Tuscany|Vino Nobile di Mo...|                null|          Sangiovese|          Avignonesi|\n",
            "|    Italy|This has a charmi...|                null|    90|   23|         Tuscany|    Chianti Classico|                null|          Sangiovese|    Casina di Cornia|\n",
            "|    Italy|This bright, savo...|             Riserva|    90|   29|         Tuscany|    Chianti Classico|                null|           Red Blend|Castello di Monte...|\n",
            "|    Spain|Earthy plum and c...|              Amandi|    90|   17|         Galicia|       Ribeira Sacra|                null|             Menc�_a|      Don Bernardino|\n",
            "|    Spain|This comes across...|Alfonso Oloroso Seco|    90|   26|       Andalucia|               Jerez|                null|            Palomino|     Gonz��lez Byass|\n",
            "|    Italy|Aromas of dark-sk...|             Riserva|    90|   39|         Tuscany|    Chianti Classico|                null|           Red Blend|             Rignana|\n",
            "|    Italy|A blend of 90% Sa...|Vigneto Odoardo B...|    90|   30|         Tuscany|    Chianti Classico|                null|           Red Blend|        Vignavecchia|\n",
            "|       US|The aromas of blu...|                null|    90|   40|      Washington|        Red Mountain|     Columbia Valley|  Cabernet Sauvignon|          Canvasback|\n",
            "|   France|This ripe, full-b...|        Les 7 Hommes|    90|   42|    Loire Valley|            Sancerre|                null|     Sauvignon Blanc|     Cherrier Fr̬res|\n",
            "|   France|With its light co...|            L'In̩dit|    90|   28|    Loire Valley| Coteaux du Giennois|                null|          Pinot Noir|Clement et Floria...|\n",
            "|       US|There's a lot to ...|                null|    90|   18|      California|Russian River Valley|              Sonoma|          Chardonnay|            De Loach|\n",
            "|       US|While exuberantly...|             Reserve|    90|   25|        New York|        Finger Lakes|        Finger Lakes|            Riesling|Dr. Konstantin Frank|\n",
            "|       US|Cabernet makes up...|         Final Final|    90|   30|      Washington|Columbia Valley (WA)|     Columbia Valley|Cabernet Sauvigno...|              Efeste|\n",
            "|Argentina|Concentrated, rip...|The Apple Doesn't...|    91|   30|Mendoza Province|             Mendoza|                null|              Malbec|   Matias Riccitelli|\n",
            "|Australia|Moorooduc's estat...|                null|    91|   36|        Victoria|Mornington Peninsula|                null|          Pinot Noir|           Moorooduc|\n",
            "|Argentina|Smoky aromas of f...|Alegor�_a Gran Re...|    91|   25|Mendoza Province|             Mendoza|                null|              Malbec|     Navarro Correas|\n",
            "| Portugal|This is a super-r...|                null|    91|   23|      Alentejano|                null|                null|      Portuguese Red|    Herdade do Rocim|\n",
            "|       US|Fresh boysenberri...|       Estate Select|    91|   36|      California|  Santa Clara Valley|       Central Coast|               Syrah|      Jason-Stephens|\n",
            "|   France|The steely charac...|Fourchaume Premie...|    91|   38|        Burgundy|             Chablis|                null|          Chardonnay|           Louis Max|\n",
            "|       US|Massively fruity,...|                null|    91|   19|          Oregon|   Willamette Valley|   Willamette Valley|          Pinot Gris|   Trinity Vineyards|\n",
            "| Portugal|It is the ripe da...|             Premium|    91|   15|        Alentejo|                null|                null|      Portuguese Red|Adega Cooperativa...|\n",
            "|       US|Given four months...|    Juliana Vineyard|    91|   38|      California|         Napa Valley|                Napa|     Sauvignon Blanc|           B Cellars|\n",
            "|       US|This wine over-de...|                null|    91|   28|      California|         Napa Valley|                Napa|  Cabernet Sauvignon|              B Side|\n",
            "|       US|Generous black-ch...|             Aeolian|    91|   42|          Oregon|    Eola-Amity Hills|   Willamette Valley|          Pinot Noir|      Bethel Heights|\n",
            "|   Israel|Dark red violet i...|             Reserve|    91|   25|   Upper Galilee|                null|                null|  Cabernet Sauvignon|           Binyamina|\n",
            "|       US|From a multiplici...|                null|    91|   22|      California|         Napa Valley|                Napa|  Cabernet Sauvignon|          Eagle Glen|\n",
            "|       US|Bright, light oak...|                null|    86|   10|      California|          California|    California Other|  Cabernet Sauvignon|      Belle Ambiance|\n",
            "| Portugal|The local Baga gr...|Marqu̻s de Marial...|    86|   12| Beira Atlantico|                null|                null|                Baga| Adega de Cantanhede|\n",
            "|    Italy|Aromas of white s...|              Nature|    86|   22|          Veneto|            Prosecco|                null|               Glera|          De Stefani|\n",
            "|       US|A smoky scent and...|     Small Lot Blend|    86|   13|      California|    Mendocino County|Mendocino/Lake Co...|          Chardonnay|            Parducci|\n",
            "| Portugal|This family-owned...|      Muros de Vinha|    86|   10|           Douro|                null|                null|      Portuguese Red|    Quinta do Portal|\n",
            "|   France|This is a smooth,...|Ch̢teau Beauvilla...|    86|   14|Southwest France|              Cahors|                null|       Malbec-Merlot|               Rigal|\n",
            "|       US|This is an easygo...|                null|    86|   18|      California|          California|    California Other|          Chardonnay|     The Naked Grape|\n",
            "|       US|Blended with smal...|                null|    86|   36|      California|       Sonoma Valley|              Sonoma|  Cabernet Sauvignon|            Tin Barn|\n",
            "|   France|Closer to Bordeau...|           Pigmentum|    86|   15|Southwest France|               Buzet|                null|       Merlot-Malbec|   Georges Vigouroux|\n",
            "|   France|This is a blend o...|           Pigmentum|    86|   10|Southwest France|   C̫tes de Gascogne|                null|Ugni Blanc-Colombard|   Georges Vigouroux|\n",
            "|       US|Juicy kiwi, lime ...|                null|    86|   24|      California|         South Coast|         South Coast|            Viognier|   Hawk Watch Winery|\n",
            "|       US|Fans of stickies ...|Tears of Dew Late...|    86|   20|      California|         Paso Robles|       Central Coast|             Moscato|                 EOS|\n",
            "|       US|Aromas of ripe (l...|Tudor Hills Vineyard|    86|   17|      Washington|       Yakima Valley|     Columbia Valley|        Pinot Grigio| Martinez & Martinez|\n",
            "|       US|Strong wood smoke...|                null|    86|   12|      California|                Lodi|      Central Valley|      Cabernet Franc|           Ironstone|\n",
            "|       US|This medium-bodie...|                null|    86|   10|      California|          California|    California Other|          Chardonnay|       Leaping Horse|\n",
            "|       US|This wine is dry ...|                null|    86|   13|      California|          California|    California Other|         White Blend|        Kitchen Sink|\n",
            "| Portugal|This state-owned ...|Companhia das Lez...|    86|   12|            Tejo|                null|                null|      Portuguese Red|  Wines & Winemakers|\n",
            "|Argentina|This copper-tinte...|Terroir �_nico Pi...|    86|   12|Mendoza Province|           Tupungato|                null|                Ros̩|              Zorzal|\n",
            "|       US|Savory apples and...|Castle Hill Vineyard|    86|   25|        New York| Hudson River Region|      New York Other|            Riesling|           Millbrook|\n",
            "+---------+--------------------+--------------------+------+-----+----------------+--------------------+--------------------+--------------------+--------------------+\n",
            "only showing top 50 rows\n",
            "\n"
          ],
          "name": "stdout"
        }
      ]
    },
    {
      "cell_type": "code",
      "metadata": {
        "colab": {
          "base_uri": "https://localhost:8080/"
        },
        "id": "eryCSy4nTDG1",
        "outputId": "ec14a6c7-2f92-4aae-88f9-7439f4a4fba1"
      },
      "source": [
        "# filter on two conditions\n",
        "df.filter((df[\"province\"] == \"California\")&(df[\"price\"] > 200)).show(50)"
      ],
      "execution_count": 38,
      "outputs": [
        {
          "output_type": "stream",
          "text": [
            "+-------+--------------------+--------------------+------+-----+----------+--------------------+-------------+--------------------+--------------------+\n",
            "|country|         description|         designation|points|price|  province|            region_1|     region_2|             variety|              winery|\n",
            "+-------+--------------------+--------------------+------+-----+----------+--------------------+-------------+--------------------+--------------------+\n",
            "|     US|This tremendous 1...|   Martha's Vineyard|    96|  235|California|         Napa Valley|         Napa|  Cabernet Sauvignon|               Heitz|\n",
            "|     US|This blockbuster,...|     Rainin Vineyard|    95|  325|California|Diamond Mountain ...|         Napa|  Cabernet Sauvignon|                Hall|\n",
            "|     US|This wine is quit...|Heritage Single V...|    92|  250|California|         Napa Valley|         Napa|  Cabernet Sauvignon|     Guarachi Family|\n",
            "|     US|A small-productio...|         Double Plus|    93|  250|California|          Rutherford|         Napa|  Cabernet Sauvignon|              Hewitt|\n",
            "|     US|Thick and dense, ...|Cask 23 Estate Grown|    93|  245|California|         Napa Valley|         Napa|  Cabernet Sauvignon|Stag's Leap Wine ...|\n",
            "|     US|The nose on this ...| Roger Rose Vineyard|    91| 2013|California|         Arroyo Seco|Central Coast|          Chardonnay|               Blair|\n",
            "|     US|So good, so rich,...|                null|    97|  250|California|          Atlas Peak|         Napa|  Cabernet Sauvignon|           Au Sommet|\n",
            "|     US|The former basket...|      Family Reserve|    97|  625|California|         Napa Valley|         Napa|  Cabernet Sauvignon|            Yao Ming|\n",
            "|     US|Shows the Bacchus...|     Backus Vineyard|    95|  250|California|            Oakville|         Napa|  Cabernet Sauvignon|       Joseph Phelps|\n",
            "|     US|You have to count...|            Insignia|    94|  225|California|         Napa Valley|         Napa|Bordeaux-style Re...|       Joseph Phelps|\n",
            "|     US|In keeping with t...|     Hillside Select|    97|  225|California| Stags Leap District|         Napa|  Cabernet Sauvignon|              Shafer|\n",
            "|     US|An ultrarich Cabe...|Beckstoffer To Ka...|    94|  235|California|         Napa Valley|         Napa|  Cabernet Sauvignon|          Paul Hobbs|\n",
            "|     US|This wine is quit...|Heritage Single V...|    92|  250|California|         Napa Valley|         Napa|  Cabernet Sauvignon|     Guarachi Family|\n",
            "|     US|Deserves its high...|        Ark Vineyard|    95|  300|California|         Napa Valley|         Napa|  Cabernet Sauvignon|        Hundred Acre|\n",
            "|     US|So soft and sweet...|Few and Far Betwe...|    94|  300|California|         Napa Valley|         Napa|  Cabernet Sauvignon|        Hundred Acre|\n",
            "|     US|Defines the moder...|Kayli Morgan Vine...|    94|  300|California|         Napa Valley|         Napa|  Cabernet Sauvignon|        Hundred Acre|\n",
            "|     US|Forward, rather j...|              Vecina|    92|  210|California|         Napa Valley|         Napa|Bordeaux-style Re...|                BOND|\n",
            "|     US|Young, tannic and...|     Hillside Select|    92|  215|California| Stags Leap District|         Napa|  Cabernet Sauvignon|              Shafer|\n",
            "|     US|A small-productio...|         Double Plus|    93|  250|California|          Rutherford|         Napa|  Cabernet Sauvignon|              Hewitt|\n",
            "|     US|Thick and dense, ...|Cask 23 Estate Grown|    93|  245|California|         Napa Valley|         Napa|  Cabernet Sauvignon|Stag's Leap Wine ...|\n",
            "|     US|An ultrarich Cabe...|Beckstoffer To Ka...|    94|  235|California|         Napa Valley|         Napa|  Cabernet Sauvignon|          Paul Hobbs|\n",
            "|     US|The '05 Hillside ...|     Hillside Select|    87|  215|California| Stags Leap District|         Napa|  Cabernet Sauvignon|              Shafer|\n",
            "|     US|A big wine, satur...|     Backus Vineyard|    93|  250|California|            Oakville|         Napa|  Cabernet Sauvignon|       Joseph Phelps|\n",
            "|     US|So good, so rich,...|                null|    97|  250|California|          Atlas Peak|         Napa|  Cabernet Sauvignon|           Au Sommet|\n",
            "|     US|Price be damned, ...|              Backus|    97|  225|California|            Oakville|         Napa|  Cabernet Sauvignon|       Joseph Phelps|\n",
            "|     US|Very refined, wit...|              Vecina|    97|  275|California|         Napa Valley|         Napa|Bordeaux-style Re...|                BOND|\n",
            "|     US|Smells a bit mint...|                null|    95|  450|California|         Napa Valley|         Napa|Bordeaux-style Re...|       Harlan Estate|\n",
            "|     US|Lots of fresh her...|             Melbury|    95|  275|California|         Napa Valley|         Napa|Bordeaux-style Re...|                BOND|\n",
            "|     US|Smells young and ...|            St. Eden|    94|  275|California|         Napa Valley|         Napa|Bordeaux-style Re...|                BOND|\n",
            "|     US|Very polished and...|            Pluribus|    91|  275|California|         Napa Valley|         Napa|Bordeaux-style Re...|                BOND|\n",
            "|     US|This is a very hi...|       H.B. Vineyard|    95|  225|California|          Rutherford|         Napa|  Cabernet Sauvignon|                Peju|\n",
            "|     US|The former basket...|      Family Reserve|    97|  625|California|         Napa Valley|         Napa|  Cabernet Sauvignon|            Yao Ming|\n",
            "|     US|Massive essence o...|             La Joie|    98|  300|California|       Sonoma County|       Sonoma|Bordeaux-style Re...|              Verit̩|\n",
            "|     US|Extremely tannic ...|            Le Desir|    95|  300|California|       Sonoma County|       Sonoma|Bordeaux-style Re...|              Verit̩|\n",
            "|     US|Lots going on in ...|             La Muse|    94|  260|California|       Sonoma County|       Sonoma|Bordeaux-style Re...|              Verit̩|\n",
            "|     US|A darkly colored,...|                null|    93|  300|California|         Napa Valley|         Napa|Bordeaux-style Re...|           Cardinale|\n",
            "|     US|Another fabulous ...|                null|    97|  250|California|         Napa Valley|         Napa|  Cabernet Sauvignon|           Cardinale|\n",
            "|     US|The style of this...|                null|    94|  350|California|     Howell Mountain|         Napa|  Cabernet Sauvignon|              Lokoya|\n",
            "|     US|Bitter tannins lo...|                null|    94|  350|California|        Mount Veeder|         Napa|  Cabernet Sauvignon|              Lokoya|\n",
            "|     US|Made in the Lokoy...|                null|    94|  350|California|Diamond Mountain ...|         Napa|  Cabernet Sauvignon|              Lokoya|\n",
            "|     US|This shows the ti...|                null|    94|  350|California|                Napa|         null|  Cabernet Sauvignon|              Lokoya|\n",
            "|     US|Shows the Bacchus...|     Backus Vineyard|    95|  250|California|            Oakville|         Napa|  Cabernet Sauvignon|       Joseph Phelps|\n",
            "|     US|You have to count...|            Insignia|    94|  225|California|         Napa Valley|         Napa|Bordeaux-style Re...|       Joseph Phelps|\n",
            "|     US|Another great Hil...|     Hillside Select|    94|  230|California| Stags Leap District|         Napa|  Cabernet Sauvignon|              Shafer|\n",
            "|     US|A big, vital wine...|      Cask 23 Estate|    94|  210|California|         Napa Valley|         Napa|  Cabernet Sauvignon|Stag's Leap Wine ...|\n",
            "|     US|A disappointing w...|                null|    84|  225|California|         Napa Valley|         Napa|  Cabernet Sauvignon|              Meteor|\n",
            "|     US|A magnificent win...|            St. Eden|    94|  275|California|         Napa Valley|         Napa|Bordeaux-style Re...|                BOND|\n",
            "|     US|Very dark, dramat...|            Pluribus|    94|  275|California|         Napa Valley|         Napa|Bordeaux-style Re...|                BOND|\n",
            "|     US|Starts with a bea...|             Melbury|    93|  275|California|         Napa Valley|         Napa|Bordeaux-style Re...|                BOND|\n",
            "|     US|This is an absolu...|           IX Estate|    99|  290|California|         Napa Valley|         Napa|           Red Blend|              Colgin|\n",
            "+-------+--------------------+--------------------+------+-----+----------+--------------------+-------------+--------------------+--------------------+\n",
            "only showing top 50 rows\n",
            "\n"
          ],
          "name": "stdout"
        }
      ]
    },
    {
      "cell_type": "code",
      "metadata": {
        "id": "dHWT4BpLTrIb"
      },
      "source": [
        ""
      ],
      "execution_count": null,
      "outputs": []
    }
  ]
}